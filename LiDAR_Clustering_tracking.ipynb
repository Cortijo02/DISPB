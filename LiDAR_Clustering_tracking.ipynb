{
 "cells": [
  {
   "cell_type": "markdown",
   "metadata": {},
   "source": [
    "# Práctica 1: LiDAR Clustering\n",
    "\n",
    "\n",
    "\n",
    "## Índice\n",
    "\n",
    "1. Integrantes del equipo\n",
    "\n",
    "2. Librerías\n",
    "\n",
    "3. Carga de Datos <br>\n",
    "\n",
    "    3.1. Dataset vehículos\n",
    "\n",
    "4. Clustering DBSCAN\n"
   ]
  },
  {
   "cell_type": "markdown",
   "metadata": {},
   "source": [
    "## Integrantes del equipo"
   ]
  },
  {
   "cell_type": "markdown",
   "metadata": {},
   "source": [
    "* Alejandro Cortijo Benito\n",
    "* Alejandro García Mota\n",
    "\n",
    "Este notebook tiene buscamos hacer `clustering` y `tracking` a los vehículos que aparecen en las muestras recogidas con el LiDAR. "
   ]
  },
  {
   "cell_type": "markdown",
   "metadata": {},
   "source": [
    "## <a id='imports'></a>Librerias"
   ]
  },
  {
   "cell_type": "code",
   "execution_count": 7,
   "metadata": {},
   "outputs": [],
   "source": [
    "# Procesamiento de datos\n",
    "import os\n",
    "import cv2\n",
    "import numpy as np\n",
    "import pandas as pd\n",
    "\n",
    "# Clustering\n",
    "from sklearn.cluster import DBSCAN\n",
    "\n",
    "# Visualización de datos\n",
    "from tqdm import tqdm\n",
    "import matplotlib.pyplot as plt\n",
    "import plotly.express as px\n",
    "import plotly.graph_objects as go"
   ]
  },
  {
   "cell_type": "markdown",
   "metadata": {},
   "source": [
    "## <a id='dataset'></a>Carga de datos"
   ]
  },
  {
   "cell_type": "markdown",
   "metadata": {},
   "source": [
    "### Dataset vehículos"
   ]
  },
  {
   "cell_type": "markdown",
   "metadata": {},
   "source": [
    "Cargamos todos los frames del dataset original ordenamos para evitar inconsistencias en los datos."
   ]
  },
  {
   "cell_type": "code",
   "execution_count": 8,
   "metadata": {},
   "outputs": [],
   "source": [
    "# Definir el directorio donde se encuentran los archivos CSV\n",
    "directory = './data/pointclouds/'\n",
    "\n",
    "def extract_timestamp_and_id(filename):\n",
    "    parts = filename.replace('pointcloud_', '').replace('.csv', '').split('_')\n",
    "    timestamp = int(parts[0])  # Primer número (timestamp grande)\n",
    "    identifier = int(parts[1])  # Segundo número (ID más pequeño)\n",
    "    return (timestamp, identifier)\n",
    "\n",
    "dataframes = []\n",
    "\n",
    "\n",
    "for filename in sorted(os.listdir(directory), key=extract_timestamp_and_id):\n",
    "    if filename.endswith('.csv'):  # Comprobar si el archivo es un CSV\n",
    "        file_path = os.path.join(directory, filename)\n",
    "        df = pd.read_csv(file_path)  # Cargar el CSV en un DataFrame\n",
    "        dataframes.append(df)  # Añadir el DataFrame a la lista"
   ]
  },
  {
   "cell_type": "markdown",
   "metadata": {},
   "source": [
    "Usando los conocimientos de `LiDAR_Clustering` procedemos a clusterizar cada frame por separado, hemos decidio usar **DBSCAN** ya que a priori desconocemos el número de de vehículos. Por otro lado, para identificar si los vehículos que salen en escena son los mismos que en el frame anterior vamos a usar la diferencia entre los centroides para computar si el vehivulo del instante `t-1` es el mismo o no. "
   ]
  },
  {
   "cell_type": "code",
   "execution_count": 9,
   "metadata": {},
   "outputs": [],
   "source": [
    "def calculate_eculidean_distance(centroid, other):\n",
    "    return np.sqrt((centroid[0] - other[0])**2 + (centroid[1] - other[1])**2 + (centroid[2] - other[2])**2)\n",
    "\n",
    "def get_cluster(last_centroids, center_x, center_y, center_z):\n",
    "\n",
    "    # Si no hay centroides, se inicializa el primer clúster con el punto actual.\n",
    "    if len(last_centroids) == 0:\n",
    "        last_centroids[0] = [center_x, center_y, center_z]\n",
    "        return 0\n",
    "    \n",
    "    max_distance = 4 # Distancia máxima para considerar que el punto pertenece a un clúster existente.\n",
    "\n",
    "    # Calcula las distancias desde el nuevo punto a cada centroide existente.\n",
    "    distances = {cluster: calculate_eculidean_distance([center_x, center_y, center_z], centroid)\n",
    "                 for cluster, centroid in last_centroids.items()}\n",
    "    \n",
    "    # Encuentra el clúster más cercano basado en la distancia calculada.\n",
    "    closest_cluster = min(distances, key=distances.get)\n",
    "\n",
    "    # Si la distancia al clúster más cercano es menor que la distancia máxima, actualiza el centroide.\n",
    "    if distances[closest_cluster] < max_distance:\n",
    "        last_centroids[closest_cluster] = [center_x, center_y, center_z]\n",
    "        return closest_cluster\n",
    "    \n",
    "    # Si la distancia es mayor que la máxima, crea un nuevo clúster.\n",
    "    new_cluster_id = max(last_centroids.keys()) + 1\n",
    "    last_centroids[new_cluster_id] = [center_x, center_y, center_z]\n",
    "    return new_cluster_id"
   ]
  },
  {
   "cell_type": "code",
   "execution_count": 12,
   "metadata": {},
   "outputs": [
    {
     "name": "stderr",
     "output_type": "stream",
     "text": [
      "100%|██████████| 369/369 [17:50<00:00,  2.90s/it]\n"
     ]
    }
   ],
   "source": [
    "centroids = []\n",
    "last_centroids = {}\n",
    "output_dir = 'frames'  # Carpeta para guardar las imágenes\n",
    "os.makedirs(output_dir, exist_ok=True)  # Crea el directorio si no existe\n",
    "\n",
    "for i, frame in enumerate(tqdm(dataframes)):\n",
    "    X = frame[['x', 'y', 'z']]\n",
    "\n",
    "    dbscan = DBSCAN(eps=3, min_samples=23, n_jobs=-1)\n",
    "\n",
    "    y_dbscan = dbscan.fit_predict(X)\n",
    "\n",
    "    df_clustered = X.copy()\n",
    "    df_clustered['cluster'] = y_dbscan\n",
    "\n",
    "    # Borrar ruido\n",
    "    df_clustered = df_clustered[df_clustered['cluster'] != -1]\n",
    "\n",
    "    fig = px.scatter(df_clustered, x='x', y='y', color='cluster')\n",
    "\n",
    "    df_result = pd.DataFrame()\n",
    "    df_result['x'] = df_clustered['x']\n",
    "    df_result['y'] = df_clustered['y']\n",
    "    df_result['z'] = df_clustered['z']\n",
    "    df_result['cluster'] = df_clustered['cluster']\n",
    "    df_result['clusterId'] = -1\n",
    "\n",
    "    # Calcular bounding boxes para cada cluster\n",
    "    bounding_boxes = {}\n",
    "\n",
    "    clusters_count = np.array(y_dbscan).max() + 1\n",
    "    for cluster in range(clusters_count):\n",
    "        cluster_points = df_result[df_result['cluster'] == cluster]\n",
    "        min_x, max_x = cluster_points['x'].min(), cluster_points['x'].max()\n",
    "        min_y, max_y = cluster_points['y'].min(), cluster_points['y'].max()\n",
    "        min_z, max_z = cluster_points['z'].min(), cluster_points['z'].max()\n",
    "\n",
    "        # Calcular el centro\n",
    "        center_x = (min_x + max_x) / 2\n",
    "        center_y = (min_y + max_y) / 2\n",
    "        center_z = (min_z + max_z) / 2\n",
    "\n",
    "        clusterId = get_cluster(last_centroids, center_x, center_y, center_z)\n",
    "        centroids.append((clusterId, center_x, center_y, center_z))\n",
    "\n",
    "        df_result.loc[df_result['cluster'] == cluster, 'clusterId'] = clusterId\n",
    "        bounding_boxes[clusterId] = {\n",
    "            'min_x': min_x, 'max_x': max_x,\n",
    "            'min_y': min_y, 'max_y': max_y,\n",
    "            'min_z': min_z, 'max_z': max_z\n",
    "        }\n",
    "\n",
    "    fig = go.Figure()\n",
    "\n",
    "    # Añadir datos\n",
    "    fig.add_trace(go.Scatter3d(\n",
    "        x=df_result['x'],\n",
    "        y=df_result['y'],\n",
    "        z=df_result['z'],\n",
    "        mode='markers',\n",
    "        marker=dict(\n",
    "            color=df_result['clusterId'],\n",
    "            colorscale='Viridis',\n",
    "            size=3,\n",
    "            cmin=0,\n",
    "            cmax=10,\n",
    "            opacity=0.5\n",
    "        ),\n",
    "        name='Data Points'\n",
    "    ))\n",
    "\n",
    "    # Añadir bounding boxes\n",
    "    for cluster, bbox in bounding_boxes.items():\n",
    "        fig.add_trace(go.Scatter3d(\n",
    "            x=[bbox['min_x'], bbox['max_x'], bbox['max_x'], bbox['min_x'], bbox['min_x'], bbox['min_x'], bbox['max_x'], bbox['max_x'], bbox['min_x'], bbox['min_x'], bbox['max_x'], bbox['max_x'], bbox['max_x'], bbox['max_x'], bbox['min_x'], bbox['min_x'], bbox['min_x']],\n",
    "            y=[bbox['min_y'], bbox['min_y'], bbox['max_y'], bbox['max_y'], bbox['min_y'], bbox['min_y'], bbox['min_y'], bbox['max_y'], bbox['max_y'], bbox['max_y'], bbox['max_y'], bbox['max_y'], bbox['min_y'], bbox['min_y'], bbox['min_y'], bbox['min_y'], bbox['max_y']],\n",
    "            z=[bbox['min_z'], bbox['min_z'], bbox['min_z'], bbox['min_z'], bbox['min_z'], bbox['max_z'], bbox['max_z'], bbox['max_z'], bbox['max_z'], bbox['min_z'], bbox['min_z'], bbox['max_z'], bbox['max_z'], bbox['min_z'], bbox['min_z'], bbox['max_z'], bbox['max_z']],\n",
    "            mode='lines',\n",
    "            line=dict(color='red', width=3),  # Increase line width\n",
    "            name=f'Vehiculo {cluster}'  # Improved naming\n",
    "        ))\n",
    "\n",
    "    # Añadir el centroide\n",
    "    fig.add_trace(go.Scatter3d(\n",
    "        x=[bbox['min_x'] + (bbox['max_x'] - bbox['min_x']) / 2 for bbox in bounding_boxes.values()],\n",
    "        y=[bbox['min_y'] + (bbox['max_y'] - bbox['min_y']) / 2 for bbox in bounding_boxes.values()],\n",
    "        z=[bbox['min_z'] + (bbox['max_z'] - bbox['min_z']) / 2 for bbox in bounding_boxes.values()],\n",
    "        mode='markers',\n",
    "        marker=dict(\n",
    "            size=6,\n",
    "            color='red',\n",
    "            symbol='x'\n",
    "        ),\n",
    "        name='Centroids'\n",
    "    ))\n",
    "\n",
    "\n",
    "    # Dibujar las lineas conectandas a los centroides de cada cluster con diferentes colores\n",
    "    colors = px.colors.qualitative.Dark24\n",
    "    for cluster_id, centroid in last_centroids.items():\n",
    "        cluster_centroids = [c for c in centroids if c[0] == cluster_id]\n",
    "        if len(cluster_centroids) > 1:\n",
    "            fig.add_trace(go.Scatter3d(\n",
    "                x=[c[1] for c in cluster_centroids],\n",
    "                y=[c[2] for c in cluster_centroids],\n",
    "                z=[c[3] for c in cluster_centroids],\n",
    "                mode='lines',\n",
    "                line=dict(color=colors[cluster_id % len(colors)], width=2),\n",
    "                name=f'Cluster {cluster_id} Path',\n",
    "                showlegend=False\n",
    "            ))\n",
    "\n",
    "\n",
    "    # Layout\n",
    "    fig.update_layout(\n",
    "        scene=dict(\n",
    "            xaxis_title='X',\n",
    "            yaxis_title='Y',\n",
    "            zaxis_title='Z',\n",
    "            aspectmode='data',\n",
    "            camera=dict(\n",
    "                eye=dict(x=5, y=3, z=4)\n",
    "            )\n",
    "        ),\n",
    "        title='Carretera',\n",
    "        legend=dict(title='Legend')\n",
    "    )\n",
    "\n",
    "    fig.write_image(os.path.join(output_dir, f'frame_{i}.png'))\n"
   ]
  },
  {
   "cell_type": "markdown",
   "metadata": {},
   "source": [
    "Una vez tenemos todos los frames computados procedemos a unificarlos en un único video `tracking.mp4`."
   ]
  },
  {
   "cell_type": "code",
   "execution_count": 13,
   "metadata": {},
   "outputs": [
    {
     "name": "stdout",
     "output_type": "stream",
     "text": [
      "tracking.mp4 creado con éxito.\n"
     ]
    }
   ],
   "source": [
    "image_folder = './frames/'   # Outputs celda anterior (tracking)\n",
    "video_name = 'tracking.mp4'  # Nombre del video de salida\n",
    "\n",
    "# Función para extraer el número de las imágenes\n",
    "def extract_frame_number(filename):\n",
    "    return int(filename.replace('frame_', '').replace('.png', '').replace('.jpg', ''))\n",
    "\n",
    "# Obtener y ordenar todas las imágenes de la carpeta\n",
    "images = [img for img in os.listdir(image_folder) if img.endswith(\".jpg\") or img.endswith(\".png\")]\n",
    "images = sorted(images, key=extract_frame_number)\n",
    "\n",
    "first_image = cv2.imread(os.path.join(image_folder, images[0]))\n",
    "\n",
    "# Ajustar la resolución\n",
    "desired_width, desired_height = 640, 480\n",
    "first_image_resized = cv2.resize(first_image, (desired_width, desired_height))\n",
    "height, width, layers = first_image_resized.shape\n",
    "\n",
    "# Definir el codec y crear el objeto VideoWriter con 30 FPS\n",
    "fourcc = cv2.VideoWriter_fourcc(*'mp4v')  # Codec compatible con macOS\n",
    "video = cv2.VideoWriter(video_name, fourcc, 4, (width, height))\n",
    "\n",
    "# Añadir cada imagen al video\n",
    "for image in images:\n",
    "    img = cv2.imread(os.path.join(image_folder, image))\n",
    "    img_resized = cv2.resize(img, (desired_width, desired_height))  # Redimensionar cada imagen\n",
    "    video.write(img_resized)\n",
    "\n",
    "# Liberar el objeto VideoWriter\n",
    "video.release()\n",
    "cv2.destroyAllWindows()\n",
    "\n",
    "print(video_name+\" creado con éxito.\")"
   ]
  }
 ],
 "metadata": {
  "kernelspec": {
   "display_name": ".venv",
   "language": "python",
   "name": "python3"
  },
  "language_info": {
   "codemirror_mode": {
    "name": "ipython",
    "version": 3
   },
   "file_extension": ".py",
   "mimetype": "text/x-python",
   "name": "python",
   "nbconvert_exporter": "python",
   "pygments_lexer": "ipython3",
   "version": "3.11.0"
  }
 },
 "nbformat": 4,
 "nbformat_minor": 2
}
