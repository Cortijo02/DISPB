{
 "cells": [
  {
   "cell_type": "markdown",
   "metadata": {},
   "source": [
    "# Práctica 1: LiDAR Clustering\n",
    "\n",
    "\n",
    "\n",
    "## Índice\n",
    "\n",
    "1. Integrantes del equipo\n",
    "\n",
    "2. Librerías\n",
    "\n",
    "3. Carga de Datos <br>\n",
    "\n",
    "    3.1. Dataset carretera vacía <br>\n",
    "\n",
    "    3.2.  Filtrado de datos <br>\n",
    "    \n",
    "    3.3.  Dataset Coche/Moto <br>\n",
    "\n",
    "5. Procesamiento de datos\n",
    "6. Clustering DBSCAN\n",
    "7. Clustering KMeans\n",
    "8. Conclusiones\n"
   ]
  },
  {
   "cell_type": "markdown",
   "metadata": {},
   "source": [
    "## Integrantes del equipo"
   ]
  },
  {
   "cell_type": "markdown",
   "metadata": {},
   "source": [
    "* Alejandro Cortijo Benito\n",
    "* Alejandro García Mota\n",
    "\n",
    "Este notebook tiene como objetivo clusterizar datos LiDAR para detectar el número de vehículos que hay en cada muestra, para resolverlo usaremos los dos algoritmos de clustering vistos en la asignatura: **DBSCAN** y **KMeans**. \n",
    "\n",
    "Cabe destacar que en este cuaderno, presentaremos los resultados usando una de las muestras más complejas, la muestra de dos coches y una moto."
   ]
  },
  {
   "cell_type": "markdown",
   "metadata": {},
   "source": [
    "## <a id='imports'></a>Librerias"
   ]
  },
  {
   "cell_type": "code",
   "execution_count": 37,
   "metadata": {},
   "outputs": [],
   "source": [
    "# Procesamiento de datos\n",
    "import numpy as np\n",
    "import pandas as pd\n",
    "\n",
    "# Procesamiento de datos\n",
    "from sklearn.linear_model import RANSACRegressor\n",
    "from sklearn.preprocessing import PolynomialFeatures\n",
    "from sklearn.pipeline import make_pipeline\n",
    "\n",
    "# Clustering\n",
    "from sklearn.cluster import DBSCAN, KMeans\n",
    "from sklearn.metrics import pairwise_distances_argmin_min\n",
    "\n",
    "# Visualización de datos\n",
    "import plotly.express as px\n",
    "import plotly.graph_objects as go"
   ]
  },
  {
   "cell_type": "markdown",
   "metadata": {},
   "source": [
    "## <a id='dataset'></a>Carga de datos"
   ]
  },
  {
   "cell_type": "markdown",
   "metadata": {},
   "source": [
    "### Dataset carretera vacía"
   ]
  },
  {
   "cell_type": "code",
   "execution_count": 38,
   "metadata": {},
   "outputs": [
    {
     "data": {
      "text/html": [
       "<div>\n",
       "<style scoped>\n",
       "    .dataframe tbody tr th:only-of-type {\n",
       "        vertical-align: middle;\n",
       "    }\n",
       "\n",
       "    .dataframe tbody tr th {\n",
       "        vertical-align: top;\n",
       "    }\n",
       "\n",
       "    .dataframe thead th {\n",
       "        text-align: right;\n",
       "    }\n",
       "</style>\n",
       "<table border=\"1\" class=\"dataframe\">\n",
       "  <thead>\n",
       "    <tr style=\"text-align: right;\">\n",
       "      <th></th>\n",
       "      <th>x</th>\n",
       "      <th>y</th>\n",
       "      <th>z</th>\n",
       "      <th>intensity</th>\n",
       "      <th>t</th>\n",
       "      <th>reflectivity</th>\n",
       "      <th>ring</th>\n",
       "      <th>ambient</th>\n",
       "      <th>range</th>\n",
       "    </tr>\n",
       "  </thead>\n",
       "  <tbody>\n",
       "    <tr>\n",
       "      <th>131062</th>\n",
       "      <td>-0.0</td>\n",
       "      <td>-0.0</td>\n",
       "      <td>-0.0</td>\n",
       "      <td>0.0</td>\n",
       "      <td>586440720</td>\n",
       "      <td>0</td>\n",
       "      <td>127</td>\n",
       "      <td>0</td>\n",
       "      <td>0</td>\n",
       "    </tr>\n",
       "    <tr>\n",
       "      <th>131063</th>\n",
       "      <td>-0.0</td>\n",
       "      <td>-0.0</td>\n",
       "      <td>-0.0</td>\n",
       "      <td>0.0</td>\n",
       "      <td>586440720</td>\n",
       "      <td>0</td>\n",
       "      <td>127</td>\n",
       "      <td>0</td>\n",
       "      <td>0</td>\n",
       "    </tr>\n",
       "    <tr>\n",
       "      <th>131064</th>\n",
       "      <td>-0.0</td>\n",
       "      <td>-0.0</td>\n",
       "      <td>-0.0</td>\n",
       "      <td>0.0</td>\n",
       "      <td>586440720</td>\n",
       "      <td>0</td>\n",
       "      <td>127</td>\n",
       "      <td>0</td>\n",
       "      <td>0</td>\n",
       "    </tr>\n",
       "    <tr>\n",
       "      <th>131065</th>\n",
       "      <td>-0.0</td>\n",
       "      <td>-0.0</td>\n",
       "      <td>-0.0</td>\n",
       "      <td>0.0</td>\n",
       "      <td>586440720</td>\n",
       "      <td>0</td>\n",
       "      <td>127</td>\n",
       "      <td>0</td>\n",
       "      <td>0</td>\n",
       "    </tr>\n",
       "    <tr>\n",
       "      <th>131066</th>\n",
       "      <td>-0.0</td>\n",
       "      <td>-0.0</td>\n",
       "      <td>-0.0</td>\n",
       "      <td>0.0</td>\n",
       "      <td>586440720</td>\n",
       "      <td>0</td>\n",
       "      <td>127</td>\n",
       "      <td>0</td>\n",
       "      <td>0</td>\n",
       "    </tr>\n",
       "    <tr>\n",
       "      <th>131067</th>\n",
       "      <td>-0.0</td>\n",
       "      <td>-0.0</td>\n",
       "      <td>-0.0</td>\n",
       "      <td>0.0</td>\n",
       "      <td>586440720</td>\n",
       "      <td>0</td>\n",
       "      <td>127</td>\n",
       "      <td>0</td>\n",
       "      <td>0</td>\n",
       "    </tr>\n",
       "    <tr>\n",
       "      <th>131068</th>\n",
       "      <td>-0.0</td>\n",
       "      <td>-0.0</td>\n",
       "      <td>-0.0</td>\n",
       "      <td>0.0</td>\n",
       "      <td>586440720</td>\n",
       "      <td>0</td>\n",
       "      <td>127</td>\n",
       "      <td>0</td>\n",
       "      <td>0</td>\n",
       "    </tr>\n",
       "    <tr>\n",
       "      <th>131069</th>\n",
       "      <td>-0.0</td>\n",
       "      <td>-0.0</td>\n",
       "      <td>-0.0</td>\n",
       "      <td>0.0</td>\n",
       "      <td>586440720</td>\n",
       "      <td>0</td>\n",
       "      <td>127</td>\n",
       "      <td>0</td>\n",
       "      <td>0</td>\n",
       "    </tr>\n",
       "    <tr>\n",
       "      <th>131070</th>\n",
       "      <td>-0.0</td>\n",
       "      <td>-0.0</td>\n",
       "      <td>-0.0</td>\n",
       "      <td>0.0</td>\n",
       "      <td>586440720</td>\n",
       "      <td>0</td>\n",
       "      <td>127</td>\n",
       "      <td>0</td>\n",
       "      <td>0</td>\n",
       "    </tr>\n",
       "    <tr>\n",
       "      <th>131071</th>\n",
       "      <td>-0.0</td>\n",
       "      <td>-0.0</td>\n",
       "      <td>-0.0</td>\n",
       "      <td>0.0</td>\n",
       "      <td>586440720</td>\n",
       "      <td>0</td>\n",
       "      <td>127</td>\n",
       "      <td>0</td>\n",
       "      <td>0</td>\n",
       "    </tr>\n",
       "  </tbody>\n",
       "</table>\n",
       "</div>"
      ],
      "text/plain": [
       "          x    y    z  intensity          t  reflectivity  ring  ambient  \\\n",
       "131062 -0.0 -0.0 -0.0        0.0  586440720             0   127        0   \n",
       "131063 -0.0 -0.0 -0.0        0.0  586440720             0   127        0   \n",
       "131064 -0.0 -0.0 -0.0        0.0  586440720             0   127        0   \n",
       "131065 -0.0 -0.0 -0.0        0.0  586440720             0   127        0   \n",
       "131066 -0.0 -0.0 -0.0        0.0  586440720             0   127        0   \n",
       "131067 -0.0 -0.0 -0.0        0.0  586440720             0   127        0   \n",
       "131068 -0.0 -0.0 -0.0        0.0  586440720             0   127        0   \n",
       "131069 -0.0 -0.0 -0.0        0.0  586440720             0   127        0   \n",
       "131070 -0.0 -0.0 -0.0        0.0  586440720             0   127        0   \n",
       "131071 -0.0 -0.0 -0.0        0.0  586440720             0   127        0   \n",
       "\n",
       "        range  \n",
       "131062      0  \n",
       "131063      0  \n",
       "131064      0  \n",
       "131065      0  \n",
       "131066      0  \n",
       "131067      0  \n",
       "131068      0  \n",
       "131069      0  \n",
       "131070      0  \n",
       "131071      0  "
      ]
     },
     "execution_count": 38,
     "metadata": {},
     "output_type": "execute_result"
    }
   ],
   "source": [
    "df = pd.read_csv('./data/carretera.csv')\n",
    "df.tail(10)"
   ]
  },
  {
   "cell_type": "code",
   "execution_count": null,
   "metadata": {},
   "outputs": [],
   "source": [
    "fig = px.scatter(df, x='x', y='z', color='ring')\n",
    "fig.show()"
   ]
  },
  {
   "cell_type": "markdown",
   "metadata": {},
   "source": [
    "<img src=\"./outputs_clustering/0.png\"/>"
   ]
  },
  {
   "cell_type": "markdown",
   "metadata": {},
   "source": [
    "Una vez almacenamos la información de la carretera en un DataFrame y comprendemos la estructura de los datos a los que nos estamos enfrentando, procedemos a seleccionar una **región de interés (ROI)** adecuada para nuestro caso de estudio. Para optimizar la detección de vehículos, limpiamos los datos de la carretera limitando el campo visual a una zona de 4 metros de ancho y 30 metros de largo. \n",
    "\n",
    "Esta selección se realizó de forma empírica, tras probar diferentes configuraciones y determinar que esta distancia proporcionaba la mejor relación entre la precisión en la detección y la relevancia de los datos para nuestro objetivo.\n",
    "\n",
    "Además de establecer un ROI, hemos eliminado aquellos puntos de `y` mayores a 2, con el fin de suprimir el ruido generado por la posición elevada del sensor LiDAR sobre el pórtico."
   ]
  },
  {
   "cell_type": "markdown",
   "metadata": {},
   "source": [
    "### Preprocesamiento de los datos"
   ]
  },
  {
   "cell_type": "code",
   "execution_count": 40,
   "metadata": {},
   "outputs": [],
   "source": [
    "def filter_points(df_input):\n",
    "    widht = 4\n",
    "    lenght = 30\n",
    "\n",
    "    df_filtered = df_input[~((df_input['x'] == 0) & (df_input['y'] == 0) & (df_input['z'] == 0))]\n",
    "    df_filtered = df_filtered[(df_filtered['z'] > -widht) & (df_filtered['z'] < widht) & (df_filtered['x'] > -lenght) & (df_filtered['x'] < lenght)]\n",
    "    df_filtered = df_filtered[df_filtered['y'] > 2]\n",
    "    return df_filtered"
   ]
  },
  {
   "cell_type": "code",
   "execution_count": 41,
   "metadata": {},
   "outputs": [
    {
     "name": "stdout",
     "output_type": "stream",
     "text": [
      "Number of rows before removing: 131072\n",
      "Number of rows after removing: 32470\n"
     ]
    }
   ],
   "source": [
    "print(f\"Number of rows before removing: {len(df)}\")\n",
    "\n",
    "df_cleaned = filter_points(df)\n",
    "print(f\"Number of rows after removing: {len(df_cleaned)}\")"
   ]
  },
  {
   "cell_type": "code",
   "execution_count": null,
   "metadata": {},
   "outputs": [],
   "source": [
    "fig = px.scatter(df_cleaned, x='x', y='z', color='ring')\n",
    "fig.show()"
   ]
  },
  {
   "cell_type": "markdown",
   "metadata": {},
   "source": [
    "<img src=\"./outputs_clustering/1.png\"/>"
   ]
  },
  {
   "cell_type": "markdown",
   "metadata": {},
   "source": [
    "Una vez tenemos cargado y procesado nuestro `ground truth` pasamos a ver la muestra principal donde vamos a realizar el clustering."
   ]
  },
  {
   "cell_type": "markdown",
   "metadata": {},
   "source": [
    "### Dataset Coche/Moto"
   ]
  },
  {
   "cell_type": "markdown",
   "metadata": {},
   "source": [
    "De manera similar al conjunto de datos anterior, hacemos una limpieza inicial de los datos."
   ]
  },
  {
   "cell_type": "code",
   "execution_count": null,
   "metadata": {},
   "outputs": [],
   "source": [
    "df_car = pd.read_csv('./data/coche_coche_moto.csv')\n",
    "df_car_filtered = filter_points(df_car)\n",
    "\n",
    "fig = px.scatter(df_car_filtered, x='x', y='z', color='ring')\n",
    "fig.show()"
   ]
  },
  {
   "cell_type": "markdown",
   "metadata": {},
   "source": [
    "<img src=\"./outputs_clustering/2.png\"/>"
   ]
  },
  {
   "cell_type": "markdown",
   "metadata": {},
   "source": [
    "## Procesamiento de los datos"
   ]
  },
  {
   "cell_type": "markdown",
   "metadata": {},
   "source": [
    "Como podemos observar todavía tenemos muchos puntos, demasiados si quisieramos clusterizar. Para abordar este problema nos planteamos varias estrategias. Inicialmente, consideramos eliminar aquellos puntos que fueran prácticamente iguales al `ground truth`, utilizando una tolerancia determinada, otra idea fue afrontar el problema como una regresión.\n",
    "\n",
    "Finalmente, combinamos lo mejor de ambas aproximaciones. Primero, empleamos el algoritmo **RANSAC (RANdom SAmple Consensus)** para ajustar un plano a los datos correspondientes a la carretera, ya que esta superficie representa la mayor parte de los puntos en la muestra. Una vez ajustado este plano, filtramos los puntos pertenecientes a nuestra muestra objetivo (2 coches y 1 moto), utilizando una tolerancia de 0.1 para determinar qué puntos no pertenecen al plano ajustado y así descartarlos."
   ]
  },
  {
   "cell_type": "code",
   "execution_count": 44,
   "metadata": {},
   "outputs": [],
   "source": [
    "# Extrayendo las columnas relevantes (coordenadas 'x' y 'z') como variables independientes\n",
    "X = df_cleaned[['x', 'z']]\n",
    "y = df_cleaned['y']\n",
    "\n",
    "ransac = make_pipeline(PolynomialFeatures(degree=1), RANSACRegressor())\n",
    "\n",
    "# Ajustando el modelo a los datos (entrenando el modelo)\n",
    "ransac.fit(X, y)\n",
    "\n",
    "# Prediciendo los valores de 'y' (altura) a partir de las coordenadas 'x' y 'z' usando el modelo ajustado\n",
    "y_pred = ransac.predict(X)"
   ]
  },
  {
   "cell_type": "code",
   "execution_count": null,
   "metadata": {},
   "outputs": [],
   "source": [
    "threshold = 0.1  \n",
    "df_car_filtered['y_pred'] = ransac.predict(df_car_filtered[['x', 'z']])\n",
    "df_car_filtered_plane = df_car_filtered[np.abs(df_car_filtered['y'] - df_car_filtered['y_pred']) > threshold]\n",
    "\n",
    "\n",
    "fig = px.scatter(df_car_filtered_plane, x='x', y='z', color='ring')\n",
    "fig.show()\n"
   ]
  },
  {
   "cell_type": "markdown",
   "metadata": {},
   "source": [
    "<img src=\"./outputs_clustering/3.png\"/>"
   ]
  },
  {
   "cell_type": "markdown",
   "metadata": {},
   "source": [
    "Ahora ya somos capaces de distinguir visualmente los vehículos, además de algún outlayer. Haciendo uso de este DataFrame filtrado empecemos a clusterizar."
   ]
  },
  {
   "cell_type": "markdown",
   "metadata": {},
   "source": [
    "## Clustering con DBSCAN"
   ]
  },
  {
   "cell_type": "code",
   "execution_count": null,
   "metadata": {},
   "outputs": [],
   "source": [
    "# Extrayendo las columnas relevantes ('x', 'y', 'z') para realizar el clustering\n",
    "X = df_car_filtered_plane[['x', 'y', 'z']]\n",
    "df_clustered_dbscan = X.copy()\n",
    "\n",
    "# Configuramos DBSCAN\n",
    "dbscan = DBSCAN(eps=2, min_samples=5)\n",
    "\n",
    "# Aplicamos DBSCAN\n",
    "y_dbscan = dbscan.fit_predict(X)\n",
    "df_clustered_dbscan['cluster'] = y_dbscan\n",
    "\n",
    "# Eliminamos los puntos clasificados como ruido (donde el clúster es -1)\n",
    "df_clustered_dbscan = df_clustered_dbscan[df_clustered_dbscan['cluster'] != -1]\n",
    "\n",
    "# Visualizando los datos agrupados en un gráfico de dispersión, coloreados por clústeres\n",
    "fig = px.scatter(df_clustered_dbscan, x='x', y='z', color='cluster')\n",
    "fig.show()"
   ]
  },
  {
   "cell_type": "markdown",
   "metadata": {},
   "source": [
    "<img src=\"./outputs_clustering/4.png\"/>"
   ]
  },
  {
   "cell_type": "code",
   "execution_count": null,
   "metadata": {},
   "outputs": [],
   "source": [
    "# Visualización 3D\n",
    "df_result_dbscan = pd.DataFrame()\n",
    "df_result_dbscan['x'] = df_clustered_dbscan['z']\n",
    "df_result_dbscan['y'] = -df_clustered_dbscan['x']\n",
    "df_result_dbscan['z'] = -df_clustered_dbscan['y']\n",
    "df_result_dbscan['cluster'] = df_clustered_dbscan['cluster']\n",
    "\n",
    "fig = go.Figure(data=[go.Scatter3d(\n",
    "    x=df_result_dbscan['x'],\n",
    "    y=df_result_dbscan['y'],\n",
    "    z=df_result_dbscan['z'],\n",
    "    mode='markers',\n",
    "    marker=dict(\n",
    "        size=1,\n",
    "        color=df_clustered_dbscan['cluster'],\n",
    "        colorscale='Viridis',\n",
    "        opacity=0.8\n",
    "    )\n",
    ")])\n",
    "\n",
    "fig.update_layout(\n",
    "    scene=dict(\n",
    "        xaxis_title='X',\n",
    "        yaxis_title='Y',\n",
    "        zaxis_title='Z',\n",
    "        aspectmode='data',\n",
    "        camera=dict(\n",
    "                eye=dict(x=2, y=2, z=2)\n",
    "            )\n",
    "    ),\n",
    "    title='DBSACAN Scatter Plot of Clustered Data'\n",
    ")\n",
    "\n",
    "fig.show()"
   ]
  },
  {
   "cell_type": "markdown",
   "metadata": {},
   "source": [
    "<img src=\"./outputs_clustering/5.png\"/>"
   ]
  },
  {
   "cell_type": "code",
   "execution_count": null,
   "metadata": {},
   "outputs": [],
   "source": [
    "# Calcualr bounding boxes para cada cluster\n",
    "bounding_boxes = {}\n",
    "\n",
    "for cluster in np.unique(y_dbscan)[1:]:\n",
    "    cluster_points = df_result_dbscan[df_result_dbscan['cluster'] == cluster]\n",
    "    min_x, max_x = cluster_points['x'].min(), cluster_points['x'].max()\n",
    "    min_y, max_y = cluster_points['y'].min(), cluster_points['y'].max()\n",
    "    min_z, max_z = cluster_points['z'].min(), cluster_points['z'].max()\n",
    "    bounding_boxes[cluster] = {\n",
    "        'min_x': min_x, 'max_x': max_x,\n",
    "        'min_y': min_y, 'max_y': max_y,\n",
    "        'min_z': min_z, 'max_z': max_z\n",
    "    }\n",
    "\n",
    "fig_dbscan = go.Figure()\n",
    "\n",
    "# Añadir puntos originales\n",
    "fig_dbscan.add_trace(go.Scatter3d(\n",
    "    x=df_result_dbscan['x'],\n",
    "    y=df_result_dbscan['y'],\n",
    "    z=df_result_dbscan['z'],\n",
    "    mode='markers',\n",
    "    marker=dict(\n",
    "        size=1,\n",
    "        color=df_result_dbscan['cluster'],\n",
    "        colorscale='Viridis',\n",
    "        opacity=0.8\n",
    "    )\n",
    "))\n",
    "\n",
    "for cluster, bbox in bounding_boxes.items():\n",
    "    fig_dbscan.add_trace(go.Scatter3d(\n",
    "        x=[bbox['min_x'], bbox['max_x'], bbox['max_x'], bbox['min_x'], bbox['min_x'], bbox['min_x'], bbox['max_x'], bbox['max_x'], bbox['min_x'], bbox['min_x'], bbox['max_x'], bbox['max_x'], bbox['max_x'], bbox['max_x'], bbox['min_x'], bbox['min_x'], bbox['min_x']],\n",
    "        y=[bbox['min_y'], bbox['min_y'], bbox['max_y'], bbox['max_y'], bbox['min_y'], bbox['min_y'], bbox['min_y'], bbox['max_y'], bbox['max_y'], bbox['max_y'], bbox['max_y'], bbox['max_y'], bbox['min_y'], bbox['min_y'], bbox['min_y'], bbox['min_y'], bbox['max_y']],\n",
    "        z=[bbox['min_z'], bbox['min_z'], bbox['min_z'], bbox['min_z'], bbox['min_z'], bbox['max_z'], bbox['max_z'], bbox['max_z'], bbox['max_z'], bbox['min_z'], bbox['min_z'], bbox['max_z'], bbox['max_z'], bbox['min_z'], bbox['min_z'], bbox['max_z'], bbox['max_z']],\n",
    "        mode='lines',\n",
    "        line=dict(color='red', width=2),\n",
    "        name=f'Vehículo {cluster}'\n",
    "    ))\n",
    "\n",
    "fig_dbscan.update_layout(\n",
    "    scene=dict(\n",
    "        xaxis_title='X',\n",
    "        yaxis_title='Y',\n",
    "        zaxis_title='Z',\n",
    "        aspectmode='data',\n",
    "        camera=dict(\n",
    "                eye=dict(x=2, y=2, z=2)\n",
    "            )\n",
    "    ),\n",
    "    title='DBSCAN Scatter Plot with Bounding Boxes'\n",
    ")\n",
    "\n",
    "fig_dbscan.show()"
   ]
  },
  {
   "cell_type": "markdown",
   "metadata": {},
   "source": [
    "<img src=\"./outputs_clustering/6.png\"/>"
   ]
  },
  {
   "cell_type": "markdown",
   "metadata": {},
   "source": [
    "## Clustering con KMeans"
   ]
  },
  {
   "cell_type": "markdown",
   "metadata": {},
   "source": [
    "De manera analoga al DBSCAN procedemos a clusterizar usando KMeans."
   ]
  },
  {
   "cell_type": "code",
   "execution_count": null,
   "metadata": {},
   "outputs": [],
   "source": [
    "X = df_car_filtered_plane[['x', 'y', 'z']]\n",
    "\n",
    "kmeans = KMeans(n_clusters=3, random_state=0)\n",
    "y_kmeans = kmeans.fit_predict(X)\n",
    "\n",
    "centroids = kmeans.cluster_centers_\n",
    "\n",
    "# Eliminar ruido que el KMeans ha interpretado como cluster\n",
    "_, distances = pairwise_distances_argmin_min(X, centroids)\n",
    "\n",
    "# Max distance\n",
    "distancia_max = 4\n",
    "\n",
    "mask = distances <= distancia_max\n",
    "df_clustered_kmeans = X[mask].copy()\n",
    "df_clustered_kmeans['cluster'] = y_kmeans[mask]\n",
    "\n",
    "fig = px.scatter(df_clustered_kmeans, x='x', y='z', color='cluster')\n",
    "fig.show()"
   ]
  },
  {
   "cell_type": "markdown",
   "metadata": {},
   "source": [
    "<img src=\"./outputs_clustering/7.png\"/>"
   ]
  },
  {
   "cell_type": "code",
   "execution_count": null,
   "metadata": {},
   "outputs": [],
   "source": [
    "df_result_kmeans = pd.DataFrame()\n",
    "df_result_kmeans['x'] = df_clustered_kmeans['z']\n",
    "df_result_kmeans['y'] = -df_clustered_kmeans['x']\n",
    "df_result_kmeans['z'] = -df_clustered_kmeans['y']\n",
    "df_result_kmeans['cluster'] = df_clustered_kmeans['cluster']\n",
    "\n",
    "fig = go.Figure(data=[go.Scatter3d(\n",
    "    x=df_result_kmeans['x'],\n",
    "    y=df_result_kmeans['y'],\n",
    "    z=df_result_kmeans['z'],\n",
    "    mode='markers',\n",
    "    marker=dict(\n",
    "        size=1,\n",
    "        color=df_clustered_kmeans['cluster'],\n",
    "        colorscale='Viridis',\n",
    "        opacity=0.8\n",
    "    )\n",
    ")])\n",
    "\n",
    "fig.update_layout(\n",
    "    scene=dict(\n",
    "        xaxis_title='X',\n",
    "        yaxis_title='Y',\n",
    "        zaxis_title='Z',\n",
    "        aspectmode='data',\n",
    "        camera=dict(\n",
    "                eye=dict(x=2, y=2, z=2)  # Adjust camera angle\n",
    "            )\n",
    "    ),\n",
    "    title='KMeans Scatter Plot of Clustered Data'\n",
    ")\n",
    "\n",
    "fig.show()"
   ]
  },
  {
   "cell_type": "markdown",
   "metadata": {},
   "source": [
    "<img src=\"./outputs_clustering/8.png\"/>"
   ]
  },
  {
   "cell_type": "code",
   "execution_count": null,
   "metadata": {},
   "outputs": [],
   "source": [
    "# Calculate bounding boxes for each cluster\n",
    "bounding_boxes = {}\n",
    "\n",
    "for cluster in np.unique(y_kmeans):\n",
    "    \n",
    "    cluster_points = df_result_kmeans[df_result_kmeans['cluster'] == cluster]\n",
    "    min_x, max_x = cluster_points['x'].min(), cluster_points['x'].max()\n",
    "    min_y, max_y = cluster_points['y'].min(), cluster_points['y'].max()\n",
    "    min_z, max_z = cluster_points['z'].min(), cluster_points['z'].max()\n",
    "    bounding_boxes[cluster] = {\n",
    "        'min_x': min_x, 'max_x': max_x,\n",
    "        'min_y': min_y, 'max_y': max_y,\n",
    "        'min_z': min_z, 'max_z': max_z\n",
    "    }\n",
    "\n",
    "fig_kmeans = go.Figure()\n",
    "\n",
    "# Add original data points\n",
    "fig_kmeans.add_trace(go.Scatter3d(\n",
    "    x=df_result_kmeans['x'],\n",
    "    y=df_result_kmeans['y'],\n",
    "    z=df_result_kmeans['z'],\n",
    "    mode='markers',\n",
    "    marker=dict(\n",
    "        size=1,\n",
    "        color=df_result_kmeans['cluster'],\n",
    "        colorscale='Viridis',\n",
    "        opacity=0.8\n",
    "    )\n",
    "))\n",
    "\n",
    "for cluster, bbox in bounding_boxes.items():\n",
    "    fig_kmeans.add_trace(go.Scatter3d(\n",
    "        x=[bbox['min_x'], bbox['max_x'], bbox['max_x'], bbox['min_x'], bbox['min_x'], bbox['min_x'], bbox['max_x'], bbox['max_x'], bbox['min_x'], bbox['min_x'], bbox['max_x'], bbox['max_x'], bbox['max_x'], bbox['max_x'], bbox['min_x'], bbox['min_x'], bbox['min_x']],\n",
    "        y=[bbox['min_y'], bbox['min_y'], bbox['max_y'], bbox['max_y'], bbox['min_y'], bbox['min_y'], bbox['min_y'], bbox['max_y'], bbox['max_y'], bbox['max_y'], bbox['max_y'], bbox['max_y'], bbox['min_y'], bbox['min_y'], bbox['min_y'], bbox['min_y'], bbox['max_y']],\n",
    "        z=[bbox['min_z'], bbox['min_z'], bbox['min_z'], bbox['min_z'], bbox['min_z'], bbox['max_z'], bbox['max_z'], bbox['max_z'], bbox['max_z'], bbox['min_z'], bbox['min_z'], bbox['max_z'], bbox['max_z'], bbox['min_z'], bbox['min_z'], bbox['max_z'], bbox['max_z']],\n",
    "        mode='lines',\n",
    "        line=dict(color='red', width=2),\n",
    "        name=f'Vehículo {cluster}'\n",
    "    ))\n",
    "\n",
    "fig_kmeans.update_layout(\n",
    "    scene=dict(\n",
    "        xaxis_title='X',\n",
    "        yaxis_title='Y',\n",
    "        zaxis_title='Z',\n",
    "        aspectmode='data',\n",
    "        camera=dict(\n",
    "                eye=dict(x=2, y=2, z=2)  # Adjust camera angle\n",
    "            )\n",
    "    ),\n",
    "    title='KMeans Scatter Plot with Bounding Boxes'\n",
    ")\n",
    "\n",
    "fig_kmeans.show()"
   ]
  },
  {
   "cell_type": "markdown",
   "metadata": {},
   "source": [
    "<img src=\"./outputs_clustering/9.png\"/>"
   ]
  },
  {
   "cell_type": "markdown",
   "metadata": {},
   "source": [
    "## Conclusiones\n",
    "\n",
    "En esta práctica, se han aplicado los algoritmos K-means y DBSCAN para clusterizar vehículos de muestras recogidas con LiDAR. Ambos métodos tienen fortaleza pero una ventaja clave del DBSCAN frente al K-means es que no requiere predefinir el número de clústeres. Esto nos puede resultar bastante útil cuando no teniamos conocimientos previos de la escena que analizabamos (como en la segunda parte de la práctica haciendo el tracking). También destaca por su capacidad de detectar y manejar ruido de manera robusta (cluster -1). \n",
    "\n",
    "En resumen, DBSCAN parece ser la solución más completa y eficaz para este tipo de aplicaciones, donde es común enfrentar datos ruidosos y no se tiene información previa sobre la cantidad o forma de los clústeres."
   ]
  }
 ],
 "metadata": {
  "kernelspec": {
   "display_name": ".venv",
   "language": "python",
   "name": "python3"
  },
  "language_info": {
   "codemirror_mode": {
    "name": "ipython",
    "version": 3
   },
   "file_extension": ".py",
   "mimetype": "text/x-python",
   "name": "python",
   "nbconvert_exporter": "python",
   "pygments_lexer": "ipython3",
   "version": "3.11.0"
  }
 },
 "nbformat": 4,
 "nbformat_minor": 2
}
